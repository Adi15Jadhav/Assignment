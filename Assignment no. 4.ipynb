{
 "cells": [
  {
   "cell_type": "markdown",
   "metadata": {},
   "source": [
    "### Solution for problem no. 1.1"
   ]
  },
  {
   "cell_type": "code",
   "execution_count": 16,
   "metadata": {},
   "outputs": [],
   "source": [
    "class Sides():\n",
    "    def __init__(self,a,b,c):\n",
    "        self.a = a\n",
    "        self.b = b\n",
    "        self.c = c\n",
    "        \n",
    "sides = Sides(30,40,50)"
   ]
  },
  {
   "cell_type": "code",
   "execution_count": 17,
   "metadata": {},
   "outputs": [],
   "source": [
    "class Area(Sides):\n",
    "    def __init__(self):\n",
    "        self.s  = (sides.a+sides.b+sides.c)/2\n",
    "        self.area = (self.s*(self.s-sides.a)*(self.s-sides.b)*(self.s-sides.c)) ** 0.5\n",
    "    \n",
    "ar = Area()"
   ]
  },
  {
   "cell_type": "code",
   "execution_count": 18,
   "metadata": {},
   "outputs": [
    {
     "data": {
      "text/plain": [
       "600.0"
      ]
     },
     "execution_count": 18,
     "metadata": {},
     "output_type": "execute_result"
    }
   ],
   "source": [
    "ar.area"
   ]
  },
  {
   "cell_type": "markdown",
   "metadata": {},
   "source": [
    "### Solution for problem no. 1.2"
   ]
  },
  {
   "cell_type": "code",
   "execution_count": 55,
   "metadata": {},
   "outputs": [
    {
     "name": "stdout",
     "output_type": "stream",
     "text": [
      "Please enter the list of word seperated by comma: hhah,jiucih,kjhugag,a,s,f,dhg,khys\n",
      "Enter the minimum length of word: 2\n",
      "['hhah', 'jiucih', 'kjhugag', 'dhg', 'khys']\n"
     ]
    }
   ],
   "source": [
    "def filter_long_words():\n",
    "    try:\n",
    "        words = input(\"Please enter the list of word seperated by comma: \")\n",
    "        min_length = int(input(\"Enter the minimum length of word: \"))\n",
    "        list_words = words.split(',')\n",
    "        final_list = []\n",
    "\n",
    "        for word in list_words:\n",
    "            if len(word) > min_length:\n",
    "                word = word.replace(\" \",\"\")\n",
    "                final_list.append(word)\n",
    "\n",
    "        return final_list\n",
    "    except:\n",
    "        print(\"Please enter list of word in proper format\")\n",
    "        \n",
    "print(filter_long_words())"
   ]
  },
  {
   "cell_type": "markdown",
   "metadata": {},
   "source": [
    "### Solution for problem no. 2.1"
   ]
  },
  {
   "cell_type": "code",
   "execution_count": 1,
   "metadata": {},
   "outputs": [],
   "source": [
    "def word_count():\n",
    "    input_string = input(\"Enter a list elements separated by space \")\n",
    "    userList = input_string.split()\n",
    "    count = []\n",
    "    for i in userList:\n",
    "        count.append(len(i))\n",
    "        \n",
    "    return count"
   ]
  },
  {
   "cell_type": "code",
   "execution_count": 2,
   "metadata": {},
   "outputs": [
    {
     "name": "stdout",
     "output_type": "stream",
     "text": [
      "Enter a list elements separated by space ggy jhha kjhbcaysg jhbawg a c b 54jh kjhcd\n",
      "[3, 4, 9, 6, 1, 1, 1, 4, 5]\n"
     ]
    }
   ],
   "source": [
    "print(word_count())"
   ]
  },
  {
   "cell_type": "markdown",
   "metadata": {},
   "source": [
    "### Solution for problem no. 2.2"
   ]
  },
  {
   "cell_type": "code",
   "execution_count": 5,
   "metadata": {},
   "outputs": [],
   "source": [
    "def check_vowel():\n",
    "    char = input(\"Please enter the character: \")\n",
    "    vowel = ['a','e','i','o','u']\n",
    "    if char in vowel:\n",
    "        return True\n",
    "    else:\n",
    "        return False"
   ]
  },
  {
   "cell_type": "code",
   "execution_count": 7,
   "metadata": {},
   "outputs": [
    {
     "name": "stdout",
     "output_type": "stream",
     "text": [
      "Please enter the character: b\n",
      "False\n"
     ]
    }
   ],
   "source": [
    "print(check_vowel())"
   ]
  }
 ],
 "metadata": {
  "kernelspec": {
   "display_name": "Python 3",
   "language": "python",
   "name": "python3"
  },
  "language_info": {
   "codemirror_mode": {
    "name": "ipython",
    "version": 3
   },
   "file_extension": ".py",
   "mimetype": "text/x-python",
   "name": "python",
   "nbconvert_exporter": "python",
   "pygments_lexer": "ipython3",
   "version": "3.7.6"
  }
 },
 "nbformat": 4,
 "nbformat_minor": 4
}
