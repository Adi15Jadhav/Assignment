{
 "cells": [
  {
   "cell_type": "markdown",
   "metadata": {},
   "source": [
    "### Solution for Moving Average"
   ]
  },
  {
   "cell_type": "code",
   "execution_count": 1,
   "metadata": {},
   "outputs": [],
   "source": [
    "def MovingAvg(lst,k): #k = window ,lst =list\n",
    "    try:\n",
    "        for i in range(len(lst)-k+1):\n",
    "            summation = 0\n",
    "            for j in range(k):\n",
    "                summation += lst[i+j]\n",
    "            print('y'+str(i),summation/k)\n",
    "    except:\n",
    "        print(\"please enter list of values as input\")"
   ]
  },
  {
   "cell_type": "code",
   "execution_count": 2,
   "metadata": {},
   "outputs": [
    {
     "name": "stdout",
     "output_type": "stream",
     "text": [
      "y0 5.0\n",
      "y1 4.666666666666667\n",
      "y2 5.666666666666667\n",
      "y3 6.666666666666667\n",
      "y4 9.666666666666666\n",
      "y5 28.666666666666668\n",
      "y6 49.333333333333336\n",
      "y7 72.66666666666667\n",
      "y8 84.0\n",
      "y9 93.33333333333333\n",
      "y10 116.33333333333333\n"
     ]
    }
   ],
   "source": [
    "MovingAvg([3, 5, 7, 2, 8, 10, 11, 65, 72, 81, 99, 100, 150],3)"
   ]
  },
  {
   "cell_type": "markdown",
   "metadata": {},
   "source": [
    "### Solution for Vandermonde"
   ]
  },
  {
   "cell_type": "code",
   "execution_count": 3,
   "metadata": {},
   "outputs": [],
   "source": [
    "import numpy as np "
   ]
  },
  {
   "cell_type": "code",
   "execution_count": 4,
   "metadata": {},
   "outputs": [],
   "source": [
    "x = np.array([1, 2, 3, 5])\n",
    "N = 3"
   ]
  },
  {
   "cell_type": "code",
   "execution_count": 5,
   "metadata": {},
   "outputs": [],
   "source": [
    "def Uptopower(inputpcolumn , maxpower):\n",
    "    newmatrix = np.asarray([x**(N-1-i) for i in range(N)])\n",
    "    print(newmatrix.T)"
   ]
  },
  {
   "cell_type": "code",
   "execution_count": 6,
   "metadata": {},
   "outputs": [
    {
     "name": "stdout",
     "output_type": "stream",
     "text": [
      "[[ 1  1  1]\n",
      " [ 4  2  1]\n",
      " [ 9  3  1]\n",
      " [25  5  1]]\n"
     ]
    }
   ],
   "source": [
    "Uptopower(x,N)"
   ]
  }
 ],
 "metadata": {
  "kernelspec": {
   "display_name": "Python 3",
   "language": "python",
   "name": "python3"
  },
  "language_info": {
   "codemirror_mode": {
    "name": "ipython",
    "version": 3
   },
   "file_extension": ".py",
   "mimetype": "text/x-python",
   "name": "python",
   "nbconvert_exporter": "python",
   "pygments_lexer": "ipython3",
   "version": "3.7.6"
  }
 },
 "nbformat": 4,
 "nbformat_minor": 4
}
